{
 "cells": [
  {
   "cell_type": "markdown",
   "metadata": {},
   "source": [
    "## Code to plot Figure 6: Theta Abundance in MEG Resting State Data"
   ]
  },
  {
   "cell_type": "code",
   "execution_count": null,
   "metadata": {},
   "outputs": [],
   "source": [
    "# Import necessary libraries\n",
    "import numpy as np\n",
    "import matplotlib.pyplot as plt\n",
    "import seaborn as sns\n",
    "sns.set_style(\"white\")\n",
    "import pandas as pd\n",
    "from scipy import stats\n",
    "from matplotlib.pyplot import figure"
   ]
  },
  {
   "cell_type": "code",
   "execution_count": null,
   "metadata": {},
   "outputs": [],
   "source": [
    "# Set seaborn style\n",
    "sns.set_style(\"ticks\", {\"xtick.major.size\": 8, \"ytick.major.size\": 8})"
   ]
  },
  {
   "cell_type": "code",
   "execution_count": null,
   "metadata": {},
   "outputs": [],
   "source": [
    "# Load the MEG data error values\n",
    "df = pd.read_csv('abundance_theta_MEG_resting.csv')\n",
    "df.head()"
   ]
  },
  {
   "cell_type": "code",
   "execution_count": null,
   "metadata": {},
   "outputs": [],
   "source": [
    "# Plot the Figure Using a Transparent Boxplot and Strip-plot showing individual data-points\n",
    "ax = []\n",
    "sns.set(rc = {'figure.figsize':(6,4)})\n",
    "sns.set_style(\"ticks\", {\"xtick.major.size\": 8, \"ytick.major.size\": 8})\n",
    "\n",
    "# Specify the colors\n",
    "col = ['#ff5c04','#c8588e','#045cff']\n",
    "    \n",
    "ax = sns.boxplot(x=\"condition\", y=\"abundance\",\n",
    "                 data=df, linewidth=1,showfliers = False,medianprops={\"linewidth\": 2,\n",
    "                        \"solid_capstyle\": \"butt\"}, dodge=True)\n",
    "\n",
    "# Iterrating over the boxes one-by-one\n",
    "# Change the color manually\n",
    "count = 0\n",
    "for patch in ax.artists:\n",
    "    # Set color manually\n",
    "    patch.set_color(col[count])\n",
    "    count=count+1\n",
    "\n",
    "\n",
    "# adding transparency to colors\n",
    "for patch in ax.artists:\n",
    "    r, g, b, a = patch.get_facecolor()\n",
    "    patch.set_facecolor((r, g, b, .3))\n",
    "\n",
    "# Strip-Plot\n",
    "ax = sns.stripplot(x=\"condition\", y=\"abundance\",split=True,dodge=True,\n",
    "                   palette=sns.color_palette(['black']),\n",
    "                   alpha=0.2,size=4, data=df)\n",
    "\n",
    "# Change various aspects of the graph to make it look nice\n",
    "ax.tick_params(axis='both', which='major', labelsize=18)\n",
    "ax.set_ylabel(\"θ Adundance\",fontsize=25,fontname=\"Arial\")\n",
    "ax.set_xlabel(\"\",fontsize=25,fontname=\"Arial\")\n",
    "ax.set_xticklabels([\"BOSC\",\"eBOSC\",\"fBOSC\"],fontsize=20,fontname=\"Arial\")\n",
    "ax.set_ylim([0.01, 0.045])\n",
    "# ax.yaxis.set_major_locator(plt.MaxNLocator(5))\n",
    "# Hide the right and top spines\n",
    "ax.spines['right'].set_visible(False)\n",
    "ax.spines['top'].set_visible(False)\n",
    "plt.legend([],[], frameon=False)\n",
    "\n",
    "fig = ax.get_figure()\n",
    "fig.show()\n",
    "fig.savefig('theta_MEG_abundance.png', bbox_inches='tight',dpi=600)"
   ]
  }
 ],
 "metadata": {
  "kernelspec": {
   "display_name": "Python 3",
   "language": "python",
   "name": "python3"
  },
  "language_info": {
   "codemirror_mode": {
    "name": "ipython",
    "version": 3
   },
   "file_extension": ".py",
   "mimetype": "text/x-python",
   "name": "python",
   "nbconvert_exporter": "python",
   "pygments_lexer": "ipython3",
   "version": "3.5.6"
  }
 },
 "nbformat": 4,
 "nbformat_minor": 4
}
