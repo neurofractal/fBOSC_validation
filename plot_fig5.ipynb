{
 "cells": [
  {
   "cell_type": "markdown",
   "metadata": {},
   "source": [
    "## Code to plot Figure 5: Showing how modelling knee paramter reduces error of fit"
   ]
  },
  {
   "cell_type": "code",
   "execution_count": null,
   "metadata": {},
   "outputs": [],
   "source": [
    "# Import necessary libraries\n",
    "import numpy as np\n",
    "import matplotlib.pyplot as plt\n",
    "import seaborn as sns\n",
    "sns.set_style(\"white\")\n",
    "import pandas as pd\n",
    "from scipy import stats\n",
    "from matplotlib.pyplot import figure"
   ]
  },
  {
   "cell_type": "code",
   "execution_count": null,
   "metadata": {},
   "outputs": [],
   "source": [
    "# Set seaborn style\n",
    "sns.set_style(\"ticks\", {\"xtick.major.size\": 8, \"ytick.major.size\": 8})"
   ]
  },
  {
   "cell_type": "code",
   "execution_count": null,
   "metadata": {},
   "outputs": [],
   "source": [
    "# Load the MEG data error values\n",
    "df = pd.read_csv('MEG_source_localised.csv')\n",
    "df.head()"
   ]
  },
  {
   "cell_type": "code",
   "execution_count": null,
   "metadata": {},
   "outputs": [],
   "source": [
    "# Plot the Figure Using a Transparent Boxplot and Strip-plot showing individual data-points\n",
    "ax = []\n",
    "sns.set(rc = {'figure.figsize':(6,4)})\n",
    "sns.set_style(\"ticks\", {\"xtick.major.size\": 8, \"ytick.major.size\": 8})\n",
    "\n",
    "# Specify the colors\n",
    "col = ['#b8b8b8','#b8b8b8']\n",
    "    \n",
    "ax = sns.boxplot(x=\"condition\", y=\"error_both\",\n",
    "                 data=df, linewidth=1,showfliers = False,medianprops={\"linewidth\": 2,\n",
    "                        \"solid_capstyle\": \"butt\"}, dodge=True)\n",
    "\n",
    "# Iterrating over the boxes one-by-one\n",
    "# Change the color manually\n",
    "count = 0\n",
    "for patch in ax.artists:\n",
    "    # Set color manually\n",
    "    patch.set_color(col[count])\n",
    "    count=count+1\n",
    "\n",
    "\n",
    "# adding transparency to colors\n",
    "for patch in ax.artists:\n",
    "    r, g, b, a = patch.get_facecolor()\n",
    "    patch.set_facecolor((r, g, b, .3))\n",
    "\n",
    "# Strip-Plot\n",
    "ax = sns.stripplot(x=\"condition\", y=\"error_both\",split=True,dodge=True,\n",
    "                   palette=sns.color_palette(['black']),\n",
    "                   alpha=0.15,size=2, data=df)\n",
    "\n",
    "# Change various aspects of the graph to make it look nice\n",
    "ax.tick_params(axis='both', which='major', labelsize=18)\n",
    "ax.set_ylabel(\"Error\",fontsize=25,fontname=\"Arial\")\n",
    "ax.set_xlabel(\"\",fontsize=25,fontname=\"Arial\")\n",
    "ax.set_xticklabels([\"Fixed\",\"Knee\"],fontsize=20,fontname=\"Arial\")\n",
    "ax.set_ylim([0, 0.1])\n",
    "# ax.yaxis.set_major_locator(plt.MaxNLocator(5))\n",
    "# Hide the right and top spines\n",
    "ax.spines['right'].set_visible(False)\n",
    "ax.spines['top'].set_visible(False)\n",
    "plt.legend([],[], frameon=False)\n",
    "\n",
    "fig = ax.get_figure()\n",
    "fig.show()\n",
    "fig.savefig('fixed_knee_error_MEG.png', bbox_inches='tight',dpi=600)"
   ]
  },
  {
   "cell_type": "code",
   "execution_count": null,
   "metadata": {},
   "outputs": [],
   "source": [
    "# Load the ECOG data error values\n",
    "df = pd.read_csv('ECOG.csv')\n",
    "df.head()"
   ]
  },
  {
   "cell_type": "code",
   "execution_count": null,
   "metadata": {},
   "outputs": [],
   "source": [
    "# Plot the Figure Using a Transparent Boxplot and Strip-plot showing individual data-points\n",
    "ax = []\n",
    "sns.set(rc = {'figure.figsize':(6,4)})\n",
    "sns.set_style(\"ticks\", {\"xtick.major.size\": 8, \"ytick.major.size\": 8})\n",
    "\n",
    "# Specify the colors\n",
    "col = ['#b8b8b8','#b8b8b8']\n",
    "    \n",
    "ax = sns.boxplot(x=\"condition\", y=\"error_both\",\n",
    "                 data=df, linewidth=1,showfliers = False,medianprops={\"linewidth\": 2,\n",
    "                        \"solid_capstyle\": \"butt\"}, dodge=True)\n",
    "\n",
    "# Iterrating over the boxes one-by-one\n",
    "# Change the color manually\n",
    "count = 0\n",
    "for patch in ax.artists:\n",
    "    # Set color manually\n",
    "    patch.set_color(col[count])\n",
    "    count=count+1\n",
    "\n",
    "\n",
    "# adding transparency to colors\n",
    "for patch in ax.artists:\n",
    "    r, g, b, a = patch.get_facecolor()\n",
    "    patch.set_facecolor((r, g, b, .3))\n",
    "\n",
    "# Strip-Plot\n",
    "ax = sns.stripplot(x=\"condition\", y=\"error_both\",split=True,dodge=True,\n",
    "                   palette=sns.color_palette(['black']),\n",
    "                   alpha=0.15,size=2, data=df)\n",
    "\n",
    "# Change various aspects of the graph to make it look nice\n",
    "ax.tick_params(axis='both', which='major', labelsize=18)\n",
    "ax.set_ylabel(\"Error\",fontsize=25,fontname=\"Arial\")\n",
    "ax.set_xlabel(\"\",fontsize=25,fontname=\"Arial\")\n",
    "ax.set_xticklabels([\"Fixed\",\"Knee\"],fontsize=20,fontname=\"Arial\")\n",
    "ax.set_ylim([0, 0.25])\n",
    "# ax.yaxis.set_major_locator(plt.MaxNLocator(5))\n",
    "# Hide the right and top spines\n",
    "ax.spines['right'].set_visible(False)\n",
    "ax.spines['top'].set_visible(False)\n",
    "plt.legend([],[], frameon=False)\n",
    "\n",
    "fig = ax.get_figure()\n",
    "fig.show()\n",
    "fig.savefig('fixed_knee_error_ECOG.png', bbox_inches='tight',dpi=600)"
   ]
  }
 ],
 "metadata": {
  "kernelspec": {
   "display_name": "Python 3",
   "language": "python",
   "name": "python3"
  },
  "language_info": {
   "codemirror_mode": {
    "name": "ipython",
    "version": 3
   },
   "file_extension": ".py",
   "mimetype": "text/x-python",
   "name": "python",
   "nbconvert_exporter": "python",
   "pygments_lexer": "ipython3",
   "version": "3.5.6"
  }
 },
 "nbformat": 4,
 "nbformat_minor": 4
}
